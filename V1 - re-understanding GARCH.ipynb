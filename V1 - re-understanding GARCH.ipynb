{
 "cells": [
  {
   "cell_type": "code",
   "execution_count": 1,
   "metadata": {
    "collapsed": false
   },
   "outputs": [
    {
     "name": "stdout",
     "output_type": "stream",
     "text": [
      "no talib\n",
      "Populating the interactive namespace from numpy and matplotlib\n"
     ]
    }
   ],
   "source": [
    "import statsmodels.api as sm\n",
    "import pandas as pd\n",
    "import numpy as np\n",
    "import scipy as sp\n",
    "\n",
    "import portfolio_functions as pf\n",
    "from pandas_datareader import data, wb\n",
    "import GARCH_MPL as gml\n",
    "\n",
    "%pylab inline\n",
    "%matplotlib inline"
   ]
  },
  {
   "cell_type": "markdown",
   "metadata": {},
   "source": [
    "# GARCH"
   ]
  },
  {
   "cell_type": "code",
   "execution_count": 35,
   "metadata": {
    "collapsed": false
   },
   "outputs": [],
   "source": [
    "# Simulate GARCH\n",
    "pars = [0.03123, 0.06123, 0.90123]\n",
    "sz = 300\n",
    "\n",
    "# Sim data\n",
    "sdata = gml.simulate_2(pars, sz)"
   ]
  },
  {
   "cell_type": "markdown",
   "metadata": {},
   "source": [
    "# Compare Modified Prof. Likelihood with QML "
   ]
  },
  {
   "cell_type": "code",
   "execution_count": null,
   "metadata": {
    "collapsed": true
   },
   "outputs": [],
   "source": [
    "gml = reload(gml)\n",
    "qmlHat, mplOHat, mplGHat, mplBHat = gml.get_all_estimators(sdata)"
   ]
  },
  {
   "cell_type": "code",
   "execution_count": 97,
   "metadata": {
    "collapsed": false
   },
   "outputs": [
    {
     "name": "stdout",
     "output_type": "stream",
     "text": [
      "[0.03123, 0.06123, 0.90123]\n",
      "-----\n",
      "qml       [ 0.02584369  0.06607634  0.89215926]\n",
      "MPL_Omega [ 0.03210526  0.06891387  0.88038577]\n",
      "MPL_Gamma [ 0.02460083  0.06157895  0.89801538]\n",
      "MPL_Beta  [ 0.02247858  0.06049159  0.90263158]\n"
     ]
    }
   ],
   "source": [
    "print(pars)\n",
    "print('-----')\n",
    "print('qml       %s'%qmlHat)\n",
    "print('MPL_Omega %s'%mplOHat)\n",
    "print('MPL_Gamma %s'%mplGHat)\n",
    "print('MPL_Beta  %s'%mplBHat)"
   ]
  },
  {
   "cell_type": "markdown",
   "metadata": {},
   "source": [
    "## Can we estimate MPL as LP ?"
   ]
  },
  {
   "cell_type": "code",
   "execution_count": 125,
   "metadata": {
    "collapsed": false
   },
   "outputs": [
    {
     "data": {
      "image/png": "[encoded data removed]",
      "text/plain": [
       "<matplotlib.figure.Figure at 0x11ce80690>"
      ]
     },
     "metadata": {},
     "output_type": "display_data"
    }
   ],
   "source": [
    "# Simulate GARCH\n",
    "pars = [0.03123, 0.06123, 0.90123]\n",
    "sz = 300\n",
    "\n",
    "# simul\n",
    "sdata = gml.simulate_2(pars, sz)\n",
    "\n",
    "# Visual inspection\n",
    "sdata.cumsum().plot(figsize=(4,2))\n",
    "plt.tight_layout()"
   ]
  },
  {
   "cell_type": "code",
   "execution_count": 126,
   "metadata": {
    "collapsed": true
   },
   "outputs": [],
   "source": [
    "# Modified profile likelihood, profile likelihood, and estimated parameters: omega\n",
    "lpO, lmO, phatLPO, phatLMO = gml.estimate_profile_and_modified_lik(sdata, omega=True)\n",
    "\n",
    "# Modified profile likelihood, profile likelihood, and estimated parameters: gamma\n",
    "lpG, lmG, phatLPG, phatLMG = gml.estimate_profile_and_modified_lik(sdata, omega=False)\n",
    "\n",
    "# Modified profile likelihood, profile likelihood, and estimated parameters: beta\n",
    "lpB, lmB, phatLPB, phatLMB = gml.estimate_profile_and_modified_lik_beta(sdata)"
   ]
  },
  {
   "cell_type": "code",
   "execution_count": 127,
   "metadata": {
    "collapsed": false
   },
   "outputs": [
    {
     "name": "stdout",
     "output_type": "stream",
     "text": [
      "[0.03123, 0.06123, 0.90123]\n",
      "-----\n",
      "OMEGA\n",
      "------\n",
      "lp = [ 0.02473684  0.04975745  0.91908384]\n",
      "lm = [ 0.01736842  0.04950408  0.92837466]\n",
      "GAMMA\n",
      "------\n",
      "lp = [ 0.02360865  0.04684211  0.923238  ]\n",
      "lm = [ 0.34610672  0.12052632  0.50190665]\n",
      "BETA\n",
      "------\n",
      "lp = [ 0.02158582  0.04647693  0.92631579]\n",
      "lm = [ 0.0325317   0.05648489  0.90263158]\n"
     ]
    }
   ],
   "source": [
    "print(pars)\n",
    "print('-----')\n",
    "print('OMEGA')\n",
    "print('------')\n",
    "print('lp = %s'%phatLPO)\n",
    "print('lm = %s'%phatLMO)\n",
    "print('GAMMA')\n",
    "print('------')\n",
    "print('lp = %s'%phatLPG)\n",
    "print('lm = %s'%phatLMG)\n",
    "print('BETA')\n",
    "print('------')\n",
    "print('lp = %s'%phatLPB)\n",
    "print('lm = %s'%phatLMB)"
   ]
  },
  {
   "cell_type": "markdown",
   "metadata": {},
   "source": [
    "# What's next "
   ]
  },
  {
   "cell_type": "code",
   "execution_count": 128,
   "metadata": {
    "collapsed": true
   },
   "outputs": [],
   "source": [
    "# Pre-Assign\n",
    "_Lp_parsO = []\n",
    "_Lm_parsO = []\n",
    "\n",
    "_Lp_parsG = []\n",
    "_Lm_parsG = []\n",
    "\n",
    "_Lp_parsB = []\n",
    "_Lm_parsB = []\n",
    "\n",
    "\n",
    "pars = [0.03123, 0.06123, 0.90123]\n",
    "sz = 300\n",
    "\n",
    "# SIMLATION\n",
    "for i in range(50):\n",
    "    # SIMULATE AND ESTIMATE\n",
    "    sdata = gml.simulate_2(pars, sz)\n",
    "    \n",
    "    # Modified profile likelihood, profile likelihood, and estimated parameters: omega\n",
    "    lpO, lmO, phatLPO, phatLMO = gml.estimate_profile_and_modified_lik(sdata, omega=True)\n",
    "\n",
    "    # Modified profile likelihood, profile likelihood, and estimated parameters: gamma\n",
    "    lpG, lmG, phatLPG, phatLMG = gml.estimate_profile_and_modified_lik(sdata, omega=False)\n",
    "\n",
    "    # Modified profile likelihood, profile likelihood, and estimated parameters: beta\n",
    "    lpB, lmB, phatLPB, phatLMB = gml.estimate_profile_and_modified_lik_beta(sdata)\n",
    "\n",
    "    _Lp_parsO.append(phatLPO)\n",
    "    _Lm_parsO.append(phatLMO)\n",
    "    \n",
    "    _Lp_parsG.append(phatLPG)\n",
    "    _Lm_parsG.append(phatLMG)\n",
    "    \n",
    "    _Lp_parsB.append(phatLPB)\n",
    "    _Lm_parsB.append(phatLMB)"
   ]
  },
  {
   "cell_type": "code",
   "execution_count": 150,
   "metadata": {
    "collapsed": false
   },
   "outputs": [
    {
     "data": {
      "text/plain": [
       "0    0.041943\n",
       "1    0.034029\n",
       "2    0.065127\n",
       "dtype: float64"
      ]
     },
     "execution_count": 150,
     "metadata": {},
     "output_type": "execute_result"
    }
   ],
   "source": [
    "pd.DataFrame(_Lp_parsO).std(axis=0)"
   ]
  },
  {
   "cell_type": "code",
   "execution_count": 153,
   "metadata": {
    "collapsed": false
   },
   "outputs": [
    {
     "data": {
      "text/plain": [
       "0    0.049495\n",
       "1    0.067531\n",
       "2    0.873426\n",
       "dtype: float64"
      ]
     },
     "execution_count": 153,
     "metadata": {},
     "output_type": "execute_result"
    }
   ],
   "source": [
    "pd.DataFrame(_Lm_parsO).mean(axis=0)"
   ]
  },
  {
   "cell_type": "code",
   "execution_count": 154,
   "metadata": {
    "collapsed": false
   },
   "outputs": [
    {
     "data": {
      "text/plain": [
       "0    0.075432\n",
       "1    0.063367\n",
       "2    0.843895\n",
       "dtype: float64"
      ]
     },
     "execution_count": 154,
     "metadata": {},
     "output_type": "execute_result"
    }
   ],
   "source": [
    "pd.DataFrame(_Lp_parsB).mean(axis=0)"
   ]
  },
  {
   "cell_type": "code",
   "execution_count": 155,
   "metadata": {
    "collapsed": false
   },
   "outputs": [
    {
     "data": {
      "text/plain": [
       "0    0.125349\n",
       "1    0.065727\n",
       "2    0.780895\n",
       "dtype: float64"
      ]
     },
     "execution_count": 155,
     "metadata": {},
     "output_type": "execute_result"
    }
   ],
   "source": [
    "pd.DataFrame(_Lm_parsB).mean(axis=0)"
   ]
  },
  {
   "cell_type": "code",
   "execution_count": 146,
   "metadata": {
    "collapsed": false
   },
   "outputs": [
    {
     "data": {
      "text/plain": [
       "0    0.080974\n",
       "1    0.063495\n",
       "2    0.835861\n",
       "dtype: float64"
      ]
     },
     "execution_count": 146,
     "metadata": {},
     "output_type": "execute_result"
    }
   ],
   "source": [
    "pd.DataFrame(_Lp_parsG).mean(axis=0)"
   ]
  },
  {
   "cell_type": "code",
   "execution_count": 147,
   "metadata": {
    "collapsed": false
   },
   "outputs": [
    {
     "data": {
      "text/plain": [
       "0    0.156326\n",
       "1    0.060105\n",
       "2    0.749199\n",
       "dtype: float64"
      ]
     },
     "execution_count": 147,
     "metadata": {},
     "output_type": "execute_result"
    }
   ],
   "source": [
    "pd.DataFrame(_Lm_parsG).mean(axis=0)"
   ]
  },
  {
   "cell_type": "code",
   "execution_count": null,
   "metadata": {
    "collapsed": true
   },
   "outputs": [],
   "source": []
  }
 ],
 "metadata": {
  "anaconda-cloud": {},
  "kernelspec": {
   "display_name": "Python [default]",
   "language": "python",
   "name": "python2"
  },
  "language_info": {
   "codemirror_mode": {
    "name": "ipython",
    "version": 2
   },
   "file_extension": ".py",
   "mimetype": "text/x-python",
   "name": "python",
   "nbconvert_exporter": "python",
   "pygments_lexer": "ipython2",
   "version": "2.7.12"
  }
 },
 "nbformat": 4,
 "nbformat_minor": 0
}
