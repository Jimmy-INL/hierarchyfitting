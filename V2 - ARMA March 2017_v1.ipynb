{
 "cells": [
  {
   "cell_type": "code",
   "execution_count": 1,
   "metadata": {
    "collapsed": false
   },
   "outputs": [
    {
     "name": "stdout",
     "output_type": "stream",
     "text": [
      "Populating the interactive namespace from numpy and matplotlib\n"
     ]
    }
   ],
   "source": [
    "%matplotlib inline\n",
    "%pylab inline\n",
    "import pandas as pd\n",
    "from scipy.optimize import minimize\n",
    "from scipy import signal, optimize\n",
    "\n",
    "import statsmodels.api as sm\n",
    "import itertools"
   ]
  },
  {
   "cell_type": "code",
   "execution_count": 2,
   "metadata": {
    "collapsed": true
   },
   "outputs": [],
   "source": [
    "# .Py file with all new functions\n",
    "import ARMA_Functions as armf"
   ]
  },
  {
   "cell_type": "markdown",
   "metadata": {},
   "source": [
    "# Start analysis"
   ]
  },
  {
   "cell_type": "code",
   "execution_count": 16,
   "metadata": {
    "collapsed": false
   },
   "outputs": [
    {
     "name": "stdout",
     "output_type": "stream",
     "text": [
      " -> True pars are  = [0.2, 0.6]\n",
      "  -------\n",
      " -> estimated pars my way = [-0.15430654  0.81680844]\n",
      " -> estimated pars package = [ 0.23274024  0.52200507]\n",
      " -> Bias My way    = 0.263;\n",
      " -> The proper way = 0.111\n"
     ]
    }
   ],
   "source": [
    "armf = reload(armf)\n",
    "\n",
    "pars = [0.2, 0.6]\n",
    "sz = 400\n",
    "\n",
    "print(' -> True pars are  = %s'%pars)\n",
    "print('  -------')\n",
    "sdata, eps = armf.generateArma(pars, sz)\n",
    "armf.estimateARMA11NoMeanMyWayVsTheHighwaY(pars, sdata)"
   ]
  },
  {
   "cell_type": "markdown",
   "metadata": {},
   "source": [
    "# Writing the ARMA model and the Quasi-likelihood estimator"
   ]
  },
  {
   "cell_type": "code",
   "execution_count": null,
   "metadata": {
    "collapsed": true
   },
   "outputs": [],
   "source": [
    ""
   ]
  }
 ],
 "metadata": {
  "kernelspec": {
   "display_name": "Python [default]",
   "language": "python",
   "name": "python2"
  },
  "language_info": {
   "codemirror_mode": {
    "name": "ipython",
    "version": 2.0
   },
   "file_extension": ".py",
   "mimetype": "text/x-python",
   "name": "python",
   "nbconvert_exporter": "python",
   "pygments_lexer": "ipython2",
   "version": "2.7.12"
  }
 },
 "nbformat": 4,
 "nbformat_minor": 0
}