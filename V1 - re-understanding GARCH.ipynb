{
 "cells": [
  {
   "cell_type": "code",
   "execution_count": 1,
   "metadata": {},
   "outputs": [
    {
     "name": "stdout",
     "output_type": "stream",
     "text": [
      "Populating the interactive namespace from numpy and matplotlib\n"
     ]
    }
   ],
   "source": [
    "import statsmodels.api as sm\n",
    "import pandas as pd\n",
    "import numpy as np\n",
    "import scipy as sp\n",
    "\n",
    "import portfolio_functions as pf\n",
    "from pandas_datareader import data, wb\n",
    "import GARCH_MPL as gml\n",
    "\n",
    "%pylab inline\n",
    "%matplotlib inline"
   ]
  },
  {
   "cell_type": "markdown",
   "metadata": {},
   "source": [
    "# GARCH"
   ]
  },
  {
   "cell_type": "code",
   "execution_count": 31,
   "metadata": {},
   "outputs": [],
   "source": [
    "# Simulate GARCH\n",
    "pars = [0.03123, 0.06123, 0.90123]\n",
    "sz = 125\n",
    "\n",
    "# Sim data\n",
    "sdata = gml.simulate_2(pars, sz)"
   ]
  },
  {
   "cell_type": "markdown",
   "metadata": {},
   "source": [
    "# Compare Modified Prof. Likelihood with QML "
   ]
  },
  {
   "cell_type": "code",
   "execution_count": 32,
   "metadata": {},
   "outputs": [],
   "source": [
    "gml = reload(gml)\n",
    "qmlHat, mplOHat, mplGHat, mplBHat = gml.get_all_estimators(sdata)"
   ]
  },
  {
   "cell_type": "code",
   "execution_count": 33,
   "metadata": {},
   "outputs": [
    {
     "name": "stdout",
     "output_type": "stream",
     "text": [
      "[0.03123, 0.06123, 0.90123]\n",
      "-----\n",
      "qml       [0.11224701 0.04121848 0.88194021]\n",
      "MPL_Omega [0.03947368 0.11868914 0.88132213]\n",
      "MPL_Gamma [0.13840052 0.02473684 0.89      ]\n",
      "MPL_Beta  [0.04762257 0.01912543 0.95      ]\n"
     ]
    }
   ],
   "source": [
    "print(pars)\n",
    "print('-----')\n",
    "print('qml       %s'%qmlHat)\n",
    "print('MPL_Omega %s'%mplOHat)\n",
    "print('MPL_Gamma %s'%mplGHat)\n",
    "print('MPL_Beta  %s'%mplBHat)"
   ]
  },
  {
   "cell_type": "markdown",
   "metadata": {},
   "source": [
    "## Can we estimate MPL as LP ?"
   ]
  },
  {
   "cell_type": "code",
   "execution_count": 37,
   "metadata": {},
   "outputs": [
    {
     "data": {
      "image/png": "[encoded data removed]",
      "text/plain": [
       "<Figure size 288x144 with 1 Axes>"
      ]
     },
     "metadata": {
      "needs_background": "light"
     },
     "output_type": "display_data"
    }
   ],
   "source": [
    "# Simulate GARCH\n",
    "pars = [0.03123, 0.06123, 0.90123]\n",
    "sz = 200\n",
    "\n",
    "# simul\n",
    "sdata = gml.simulate_2(pars, sz)\n",
    "\n",
    "# Visual inspection\n",
    "sdata.cumsum().plot(figsize=(4,2))\n",
    "plt.tight_layout()"
   ]
  },
  {
   "cell_type": "code",
   "execution_count": 38,
   "metadata": {},
   "outputs": [],
   "source": [
    "# Simple QML\n",
    "qmlPars, qmlLLK = gml.estimate_garch(sdata, gml.GARCH_PP, update_freq=5, disp='off')\n",
    "\n",
    "# Modified profile likelihood, profile likelihood, and estimated parameters: omega\n",
    "lpO, lmO, phatLPO, phatLMO = gml.estimate_profile_and_modified_lik(sdata, omega=True)\n",
    "\n",
    "# Modified profile likelihood, profile likelihood, and estimated parameters: gamma\n",
    "lpG, lmG, phatLPG, phatLMG = gml.estimate_profile_and_modified_lik(sdata, omega=False)\n",
    "\n",
    "# Modified profile likelihood, profile likelihood, and estimated parameters: beta\n",
    "lpB, lmB, phatLPB, phatLMB = gml.estimate_profile_and_modified_lik_beta(sdata)"
   ]
  },
  {
   "cell_type": "code",
   "execution_count": 39,
   "metadata": {},
   "outputs": [
    {
     "name": "stdout",
     "output_type": "stream",
     "text": [
      "---------------\n",
      "True Parameters\n",
      "[0.03123, 0.06123, 0.90123]\n",
      "---------------\n",
      "Quasi-Likelihood estimation\n",
      "QML = [0.0544815  0.11244386 0.8324479 ]\n",
      "----------------\n",
      "Focal parameter = OMEGA\n",
      "lp = [0.05421053 0.11231782 0.8328851 ]\n",
      "lm = [0.03947368 0.12052749 0.84412026]\n",
      "----------------\n",
      "Focal parameter = GAMMA\n",
      "lp = [0.05465296 0.11315789 0.83165934]\n",
      "lm = [0.37628215 0.06157895 0.50050102]\n",
      "----------------\n",
      "Focal parameter = BETA\n",
      "lp = [0.05484205 0.11292148 0.83157895]\n",
      "lm = [0.05483456 0.11291423 0.83157895]\n"
     ]
    }
   ],
   "source": [
    "print('---------------')\n",
    "print('True Parameters')\n",
    "print(pars)\n",
    "print('---------------')\n",
    "print('Quasi-Likelihood estimation')\n",
    "print('QML = %s'%qmlPars)\n",
    "print('----------------')\n",
    "print('Focal parameter = OMEGA')\n",
    "print('lp = %s'%phatLPO)\n",
    "print('lm = %s'%phatLMO)\n",
    "print('----------------')\n",
    "print('Focal parameter = GAMMA')\n",
    "print('lp = %s'%phatLPG)\n",
    "print('lm = %s'%phatLMG)\n",
    "print('----------------')\n",
    "print('Focal parameter = BETA')\n",
    "print('lp = %s'%phatLPB)\n",
    "print('lm = %s'%phatLMB)"
   ]
  },
  {
   "cell_type": "markdown",
   "metadata": {},
   "source": [
    "# What's next "
   ]
  },
  {
   "cell_type": "code",
   "execution_count": 8,
   "metadata": {},
   "outputs": [],
   "source": [
    "# Pre-Assign\n",
    "_Lp_parsO = []\n",
    "_Lm_parsO = []\n",
    "\n",
    "_Lp_parsG = []\n",
    "_Lm_parsG = []\n",
    "\n",
    "_Lp_parsB = []\n",
    "_Lm_parsB = []\n",
    "\n",
    "\n",
    "pars = [0.03123, 0.06123, 0.90123]\n",
    "sz = 300\n",
    "\n",
    "# SIMLATION\n",
    "for i in range(50):\n",
    "    # SIMULATE AND ESTIMATE\n",
    "    sdata = gml.simulate_2(pars, sz)\n",
    "    \n",
    "    # Modified profile likelihood, profile likelihood, and estimated parameters: omega\n",
    "    lpO, lmO, phatLPO, phatLMO = gml.estimate_profile_and_modified_lik(sdata, omega=True)\n",
    "\n",
    "    # Modified profile likelihood, profile likelihood, and estimated parameters: gamma\n",
    "    lpG, lmG, phatLPG, phatLMG = gml.estimate_profile_and_modified_lik(sdata, omega=False)\n",
    "\n",
    "    # Modified profile likelihood, profile likelihood, and estimated parameters: beta\n",
    "    lpB, lmB, phatLPB, phatLMB = gml.estimate_profile_and_modified_lik_beta(sdata)\n",
    "\n",
    "    _Lp_parsO.append(phatLPO)\n",
    "    _Lm_parsO.append(phatLMO)\n",
    "    \n",
    "    _Lp_parsG.append(phatLPG)\n",
    "    _Lm_parsG.append(phatLMG)\n",
    "    \n",
    "    _Lp_parsB.append(phatLPB)\n",
    "    _Lm_parsB.append(phatLMB)"
   ]
  },
  {
   "cell_type": "code",
   "execution_count": 15,
   "metadata": {},
   "outputs": [
    {
     "data": {
      "text/plain": [
       "[0.03123, 0.06123, 0.90123]"
      ]
     },
     "execution_count": 15,
     "metadata": {},
     "output_type": "execute_result"
    }
   ],
   "source": [
    "pars"
   ]
  },
  {
   "cell_type": "code",
   "execution_count": 9,
   "metadata": {},
   "outputs": [
    {
     "data": {
      "text/plain": [
       "0    0.046839\n",
       "1    0.036349\n",
       "2    0.083757\n",
       "dtype: float64"
      ]
     },
     "execution_count": 9,
     "metadata": {},
     "output_type": "execute_result"
    }
   ],
   "source": [
    "pd.DataFrame(_Lp_parsO).std(axis=0)"
   ]
  },
  {
   "cell_type": "code",
   "execution_count": 10,
   "metadata": {},
   "outputs": [
    {
     "data": {
      "text/plain": [
       "0    0.058926\n",
       "1    0.068424\n",
       "2    0.861701\n",
       "dtype: float64"
      ]
     },
     "execution_count": 10,
     "metadata": {},
     "output_type": "execute_result"
    }
   ],
   "source": [
    "pd.DataFrame(_Lm_parsO).mean(axis=0)"
   ]
  },
  {
   "cell_type": "code",
   "execution_count": 11,
   "metadata": {},
   "outputs": [
    {
     "data": {
      "text/plain": [
       "0    0.099011\n",
       "1    0.073156\n",
       "2    0.802684\n",
       "dtype: float64"
      ]
     },
     "execution_count": 11,
     "metadata": {},
     "output_type": "execute_result"
    }
   ],
   "source": [
    "pd.DataFrame(_Lp_parsB).mean(axis=0)"
   ]
  },
  {
   "cell_type": "code",
   "execution_count": 12,
   "metadata": {},
   "outputs": [
    {
     "data": {
      "text/plain": [
       "0    0.165563\n",
       "1    0.073479\n",
       "2    0.715053\n",
       "dtype: float64"
      ]
     },
     "execution_count": 12,
     "metadata": {},
     "output_type": "execute_result"
    }
   ],
   "source": [
    "pd.DataFrame(_Lm_parsB).mean(axis=0)"
   ]
  },
  {
   "cell_type": "code",
   "execution_count": 13,
   "metadata": {},
   "outputs": [
    {
     "data": {
      "text/plain": [
       "0    0.097974\n",
       "1    0.072189\n",
       "2    0.804726\n",
       "dtype: float64"
      ]
     },
     "execution_count": 13,
     "metadata": {},
     "output_type": "execute_result"
    }
   ],
   "source": [
    "pd.DataFrame(_Lp_parsG).mean(axis=0)"
   ]
  },
  {
   "cell_type": "code",
   "execution_count": 14,
   "metadata": {},
   "outputs": [
    {
     "data": {
      "text/plain": [
       "0    0.192302\n",
       "1    0.062021\n",
       "2    0.713929\n",
       "dtype: float64"
      ]
     },
     "execution_count": 14,
     "metadata": {},
     "output_type": "execute_result"
    }
   ],
   "source": [
    "pd.DataFrame(_Lm_parsG).mean(axis=0)"
   ]
  },
  {
   "cell_type": "code",
   "execution_count": 24,
   "metadata": {},
   "outputs": [
    {
     "data": {
      "image/png": "[encoded data removed]",
      "text/plain": [
       "<Figure size 432x288 with 3 Axes>"
      ]
     },
     "metadata": {
      "needs_background": "light"
     },
     "output_type": "display_data"
    }
   ],
   "source": [
    "pd.DataFrame(_Lp_parsO).plot(subplots=True,marker='o')\n",
    "plt.tight_layout()"
   ]
  },
  {
   "cell_type": "markdown",
   "metadata": {
    "collapsed": true
   },
   "source": [
    "# Opening up the QML Estimator\n",
    "\n",
    "# GARCH(1,1) Model\n",
    "def GARCH_PP(pars, data, sigma, out=None):\n",
    "    # pormenores\n",
    "    omega    = pars[0] # pars\n",
    "    gamma    = pars[1] # pars\n",
    "    beta     = pars[2] # pars\n",
    "\n",
    "    # pormenores\n",
    "    T = np.size(data,0)\n",
    "\n",
    "    # ret = (y - mean)\n",
    "    eps = data\n",
    "\n",
    "    # The iteration\n",
    "    for t in xrange(1,T):\n",
    "        sigma[t] = omega + gamma * eps[t-1]**2 + beta * sigma[t-1]\n",
    "\n",
    "    # The objective function\n",
    "    logliks = 0.5 * (log(2 * pi) + log(sigma) + eps ** 2.0 / sigma)\n",
    "    loglik = sum( logliks )\n",
    "    if out is None:\n",
    "        return loglik\n",
    "    else:\n",
    "        return loglik, logliks, copy(sigma)\n",
    "\n",
    "# Estimating the GARCH(1,1) model\n",
    "def estimate_garch(data, GARCH_PP, update_freq=5, disp='off'):\n",
    "\n",
    "    # initial points\n",
    "    pars = starting_values(data)\n",
    "\n",
    "    # Initial args\n",
    "    T = np.size(data, 0)\n",
    "    sigma = np.repeat(np.var(data), T)\n",
    "    args = (data, sigma)\n",
    "\n",
    "    # 4. Estimate models using constrained optimization\n",
    "    global _callback_func_count, _callback_iter, _callback_iter_display\n",
    "    _callback_func_count, _callback_iter = 0, 0\n",
    "    if update_freq <= 0 or disp == 'off':\n",
    "        _callback_iter_display = 2 ** 31\n",
    "        update_freq = 0\n",
    "    else:\n",
    "        _callback_iter_display = update_freq\n",
    "    disp = 1 if disp == 'final' else 0\n",
    "\n",
    "    # Bounds\n",
    "    bounds = ((0.01, 0.5),\n",
    "              (0.01, 0.5),\n",
    "              (0.5, 0.99))\n",
    "\n",
    "    # Constrains\n",
    "    cons = ({'type': 'ineq',\n",
    "             'fun' : lambda x: np.array([x[0]])},\n",
    "           {'type':'ineq',\n",
    "            'fun': lambda x: np.array([x[1]])},\n",
    "           {'type':'ineq',\n",
    "            'fun': lambda x: np.array([x[2]])},\n",
    "           {'type':'ineq',\n",
    "            'fun': lambda x: np.array([1-x[1]-x[2]])}\n",
    "            )\n",
    "\n",
    "    # Estimate the model\n",
    "    res = minimize(GARCH_PP, pars, args=args, constraints=cons, bounds=bounds,\n",
    "                   method='SLSQP', callback=_callback, options={'ftol':1e-31,'disp': False})\n",
    "    # Save parameters\n",
    "    hat_pars = res.x\n",
    "    logLik = res.fun\n",
    "\n",
    "    return hat_pars, logLik"
   ]
  },
  {
   "cell_type": "markdown",
   "metadata": {},
   "source": [
    "# Opening up the LProfile Estimator\n",
    "\n",
    "bounds QML estimator for all parameters = ((0.01, 0.5),(0.01, 0.5),(0.5, 0.99))\n",
    "\n",
    "bounds LP Gamma = ((0.001, 0.5),(0.5, 0.99))\n",
    "\n",
    "bounds LP Omega = ((0.001, 0.5),(0.5, 0.99))\n",
    "\n",
    "profile Lik. Step for gamma_range = np.linspace(0.01,0.15,20)\n",
    "\n",
    "profile Lik. Step for omega_range = np.linspace(0.01,0.15,20)\n",
    "\n",
    "LM Fixed Gamma = ((0.001, 0.5),(0.5, 0.99))\n",
    "\n",
    "Estimate Garch at fixed beta = ((0.001, 0.5),(0.001, 0.5))\n",
    "\n",
    "Construct profile beta =  np.linspace(0.5, 0.95, 20)\n",
    "\n",
    "Estimate GARCH LM Fixed Beta = ((0.001, 0.5), (0.001, 0.5))\n",
    "\n",
    "beta_range = np.linspace(0.5, 0.95, 20)\n",
    "\n",
    "Estimate Garch LM Fixed Omega = ((0.01, 0.5),(0.5, 0.99))"
   ]
  },
  {
   "cell_type": "markdown",
   "metadata": {},
   "source": [
    "## Simulate everythin using QML "
   ]
  },
  {
   "cell_type": "code",
   "execution_count": null,
   "metadata": {},
   "outputs": [],
   "source": []
  }
 ],
 "metadata": {
  "anaconda-cloud": {},
  "kernelspec": {
   "display_name": "Python 2",
   "language": "python",
   "name": "python2"
  },
  "language_info": {
   "codemirror_mode": {
    "name": "ipython",
    "version": 2
   },
   "file_extension": ".py",
   "mimetype": "text/x-python",
   "name": "python",
   "nbconvert_exporter": "python",
   "pygments_lexer": "ipython2",
   "version": "2.7.15"
  }
 },
 "nbformat": 4,
 "nbformat_minor": 1
}
