{
 "cells": [
  {
   "cell_type": "code",
   "execution_count": 1,
   "metadata": {
    "collapsed": false
   },
   "outputs": [
    {
     "name": "stdout",
     "output_type": "stream",
     "text": [
      "Populating the interactive namespace from numpy and matplotlib\n"
     ]
    }
   ],
   "source": [
    "%matplotlib inline\n",
    "%pylab inline\n",
    "import pandas as pd\n",
    "from scipy.optimize import minimize\n",
    "from scipy import signal, optimize\n",
    "\n",
    "import statsmodels.api as sm\n",
    "import itertools\n",
    "\n",
    "from numpy import dot\n",
    "import warnings\n",
    "warnings.filterwarnings('ignore')\n",
    "import numdifftools as ndt"
   ]
  },
  {
   "cell_type": "code",
   "execution_count": 2,
   "metadata": {
    "collapsed": true
   },
   "outputs": [],
   "source": [
    "# .Py file with all new functions\n",
    "import ARMA_Functions as armf"
   ]
  },
  {
   "cell_type": "markdown",
   "metadata": {},
   "source": [
    "## start "
   ]
  },
  {
   "cell_type": "code",
   "execution_count": 11,
   "metadata": {
    "collapsed": false
   },
   "outputs": [],
   "source": [
    "armf = reload(armf)\n",
    "pars  = [.3, .5]\n",
    "sz    = 800\n",
    "\n",
    "sdata, _ = armf.generateArma(pars, sz)"
   ]
  },
  {
   "cell_type": "markdown",
   "metadata": {},
   "source": [
    "#### calculating the Hessian and the Scores"
   ]
  },
  {
   "cell_type": "code",
   "execution_count": 19,
   "metadata": {
    "collapsed": false
   },
   "outputs": [
    {
     "data": {
      "text/plain": [
       "(array([[-0.00194262]]), 0.0012930665880858411)"
      ]
     },
     "execution_count": 19,
     "metadata": {},
     "output_type": "execute_result"
    }
   ],
   "source": [
    "armf = reload(armf)\n",
    "armf.getHandScores(pars, sdata, .1, beta=True)"
   ]
  },
  {
   "cell_type": "markdown",
   "metadata": {},
   "source": [
    "# Re-understanding Vladimir's code\n",
    "$X_ij = dLPPLS(t_i; tc, psi) / dpsi_j$\n",
    "\n",
    "$H_ij = \\sum_k err_k * d^2LPPLS(t_k, tc, psi) / dpsi_i dpsi_j$ "
   ]
  },
  {
   "cell_type": "markdown",
   "metadata": {},
   "source": [
    "X, H = calc_lppl_X_H(t, logP, pars[ind, :], no_w=no_w, no_m=no_m)\n",
    "\n",
    "I_psi = np.dot(X.T, X) - H\n",
    "\n",
    "detI = np.abs(np.linalg.det(I_psi))  # To avoid duplicated calculations: I_psi\n",
    "\n",
    "detS = np.abs(np.linalg.det(np.dot(X_hat.T, X)))\n",
    "\n",
    "-(len(t)-p-2.)/2. * np.log(s_tc[ind]) + np.log(detI)/2.- np.log(detS)"
   ]
  },
  {
   "cell_type": "markdown",
   "metadata": {},
   "source": [
    "## Now testing"
   ]
  },
  {
   "cell_type": "code",
   "execution_count": 69,
   "metadata": {
    "collapsed": false
   },
   "outputs": [
    {
     "data": {
      "text/plain": [
       "-0.0017132988979496945"
      ]
     },
     "execution_count": 69,
     "metadata": {},
     "output_type": "execute_result"
    }
   ],
   "source": [
    "# Compute the FIM at the optimal theta* and variying beta (or vice-versa)\n",
    "armf = reload(armf)\n",
    "\n",
    "variyngBeta_fix = .5\n",
    "armf.calculate_hessianMatrix(pars, sdata, variyngBeta_fix, beta=True)"
   ]
  },
  {
   "cell_type": "code",
   "execution_count": 70,
   "metadata": {
    "collapsed": false
   },
   "outputs": [
    {
     "name": "stdout",
     "output_type": "stream",
     "text": [
      "[[-0.00197074 -0.00264154]\n",
      " [-0.00264154 -0.0018929 ]]\n",
      "The determinant of the FIM is 3.24730043505e-06\n"
     ]
    }
   ],
   "source": [
    "armf = reload(armf)\n",
    "\n",
    "T = armf.getFisherInfoMatrixFullARMAModel(sdata, pars)\n",
    "print(T)\n",
    "print('The determinant of the FIM is %s'%np.abs(np.linalg.det(T)))"
   ]
  },
  {
   "cell_type": "code",
   "execution_count": 71,
   "metadata": {
    "collapsed": false
   },
   "outputs": [
    {
     "data": {
      "text/plain": [
       "-0.00086855356942892924"
      ]
     },
     "execution_count": 71,
     "metadata": {},
     "output_type": "execute_result"
    }
   ],
   "source": [
    "armf = reload(armf)\n",
    "\n",
    "armf.calc_scoresLprofile(pars, sdata, variyngBeta_fix, beta=True)"
   ]
  },
  {
   "cell_type": "code",
   "execution_count": 74,
   "metadata": {
    "collapsed": false
   },
   "outputs": [
    {
     "data": {
      "text/plain": [
       "-0.0017132988979496945"
      ]
     },
     "execution_count": 74,
     "metadata": {},
     "output_type": "execute_result"
    }
   ],
   "source": [
    "armf = reload(armf)\n",
    "\n",
    "a,b = armf.getHandScores(pars, sdata, variyngBeta_fix, beta=True)\n",
    "a"
   ]
  },
  {
   "cell_type": "markdown",
   "metadata": {},
   "source": [
    "### now the main func"
   ]
  },
  {
   "cell_type": "code",
   "execution_count": 246,
   "metadata": {
    "collapsed": false
   },
   "outputs": [
    {
     "data": {
      "image/png": "[encoded data removed]",
      "text/plain": [
       "<matplotlib.figure.Figure at 0x11e279450>"
      ]
     },
     "metadata": {},
     "output_type": "display_data"
    }
   ],
   "source": [
    "pars = [0.3, 0.55]\n",
    "sz   = 300\n",
    "sdata, _ = armf.generateArma(pars, sz)\n",
    "\n",
    "f,ax = plt.subplots(1,1,figsize=(4,2))\n",
    "plt.plot(np.cumsum(sdata), color='r')\n",
    "plt.tight_layout()"
   ]
  },
  {
   "cell_type": "code",
   "execution_count": 253,
   "metadata": {
    "collapsed": false
   },
   "outputs": [],
   "source": [
    "armf = reload(armf)\n",
    "\n",
    "a, b, c, d = armf.estimate_mpl_beta(sdata)\n",
    "d"
   ]
  },
  {
   "cell_type": "code",
   "execution_count": 256,
   "metadata": {
    "collapsed": false
   },
   "outputs": [
    {
     "data": {
      "text/plain": [
       "array([ 0.33223537,  0.48313279])"
      ]
     },
     "execution_count": 256,
     "metadata": {},
     "output_type": "execute_result"
    }
   ],
   "source": [
    "armf.estimatorARMA(sdata)"
   ]
  },
  {
   "cell_type": "code",
   "execution_count": 257,
   "metadata": {
    "collapsed": false
   },
   "outputs": [
    {
     "data": {
      "text/plain": [
       "array([ 0.32564103,  0.48781524])"
      ]
     },
     "execution_count": 257,
     "metadata": {},
     "output_type": "execute_result"
    }
   ],
   "source": [
    "aa,_,_,t = armf.profileARMA_estimator(sdata, beta=True)\n",
    "t"
   ]
  },
  {
   "cell_type": "code",
   "execution_count": 271,
   "metadata": {
    "collapsed": false
   },
   "outputs": [
    {
     "data": {
      "image/png": "[encoded data removed]",
      "text/plain": [
       "<matplotlib.figure.Figure at 0x11f11e790>"
      ]
     },
     "metadata": {},
     "output_type": "display_data"
    }
   ],
   "source": [
    "minLMP  = a[a==a.min()].dropna().index[0]\n",
    "minLP = aa[aa==aa.min()].dropna().index[0]\n",
    "\n",
    "(-a).plot(color='r', marker='s')\n",
    "plt.axvline(minLMP, color='r', marker='s')\n",
    "ab = plt.twinx()\n",
    "(-aa).plot(ax=ab, color='k', marker='o')\n",
    "ab.axvline(minLP, color='k', marker='s')\n",
    "plt.tight_layout()"
   ]
  },
  {
   "cell_type": "markdown",
   "metadata": {},
   "source": [
    "#### theta"
   ]
  },
  {
   "cell_type": "code",
   "execution_count": 276,
   "metadata": {
    "collapsed": false
   },
   "outputs": [
    {
     "data": {
      "text/plain": [
       "array([ 0.46923077,  0.34274996])"
      ]
     },
     "execution_count": 276,
     "metadata": {},
     "output_type": "execute_result"
    }
   ],
   "source": [
    "e, f, g, h = armf.estimate_mpl_theta(sdata)\n",
    "h"
   ]
  },
  {
   "cell_type": "markdown",
   "metadata": {},
   "source": [
    "# All together"
   ]
  },
  {
   "cell_type": "code",
   "execution_count": 284,
   "metadata": {
    "collapsed": true
   },
   "outputs": [],
   "source": [
    "armf = reload(armf)\n",
    "res = armf.estimator_estimateBias(sdata, pars, allPars=True)"
   ]
  },
  {
   "cell_type": "code",
   "execution_count": 285,
   "metadata": {
    "collapsed": false
   },
   "outputs": [
    {
     "data": {
      "text/html": [
       "<div>\n",
       "<table border=\"1\" class=\"dataframe\">\n",
       "  <thead>\n",
       "    <tr style=\"text-align: right;\">\n",
       "      <th></th>\n",
       "      <th>qmlBias</th>\n",
       "      <th>LpBetaBias</th>\n",
       "      <th>LpThetaBias</th>\n",
       "      <th>LmBetaBias</th>\n",
       "      <th>LmThetaBias</th>\n",
       "    </tr>\n",
       "  </thead>\n",
       "  <tbody>\n",
       "    <tr>\n",
       "      <th>0</th>\n",
       "      <td>0.099103</td>\n",
       "      <td>0.087826</td>\n",
       "      <td>0.087408</td>\n",
       "      <td>0.034293</td>\n",
       "      <td>0.123519</td>\n",
       "    </tr>\n",
       "  </tbody>\n",
       "</table>\n",
       "</div>"
      ],
      "text/plain": [
       "    qmlBias  LpBetaBias  LpThetaBias  LmBetaBias  LmThetaBias\n",
       "0  0.099103    0.087826     0.087408    0.034293     0.123519"
      ]
     },
     "execution_count": 285,
     "metadata": {},
     "output_type": "execute_result"
    }
   ],
   "source": [
    "res"
   ]
  },
  {
   "cell_type": "code",
   "execution_count": null,
   "metadata": {
    "collapsed": true
   },
   "outputs": [],
   "source": [
    ""
   ]
  }
 ],
 "metadata": {
  "anaconda-cloud": {},
  "kernelspec": {
   "display_name": "Python [conda root]",
   "language": "python",
   "name": "conda-root-py"
  },
  "language_info": {
   "codemirror_mode": {
    "name": "ipython",
    "version": 2.0
   },
   "file_extension": ".py",
   "mimetype": "text/x-python",
   "name": "python",
   "nbconvert_exporter": "python",
   "pygments_lexer": "ipython2",
   "version": "2.7.12"
  }
 },
 "nbformat": 4,
 "nbformat_minor": 0
}