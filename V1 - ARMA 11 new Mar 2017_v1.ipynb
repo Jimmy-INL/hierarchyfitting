{
 "cells": [
  {
   "cell_type": "markdown",
   "metadata": {},
   "source": [
    "### http://www.chadfulton.com/topics/arma11_cpi_inflation.html\n",
    "### http://fedc.wiwi.hu-berlin.de/xplore/tutorials/sfehtmlnode63.html"
   ]
  },
  {
   "cell_type": "markdown",
   "metadata": {},
   "source": [
    "### The ARMA process reads:\n",
    "$yt=ϕyt−1+εt+θ1εt−1,εt∼N(0,σ2)$"
   ]
  },
  {
   "cell_type": "code",
   "execution_count": 32,
   "metadata": {
    "collapsed": false
   },
   "outputs": [
    {
     "name": "stdout",
     "output_type": "stream",
     "text": [
      "Populating the interactive namespace from numpy and matplotlib\n"
     ]
    },
    {
     "name": "stderr",
     "output_type": "stream",
     "text": [
      "//anaconda/lib/python2.7/site-packages/IPython/core/magics/pylab.py:161: UserWarning: pylab import has clobbered these variables: ['f']\n",
      "`%matplotlib` prevents importing * from pylab and numpy\n",
      "  \"\\n`%matplotlib` prevents importing * from pylab and numpy\"\n"
     ]
    }
   ],
   "source": [
    "%matplotlib inline\n",
    "%pylab inline\n",
    "import pandas as pd\n",
    "from scipy.optimize import minimize\n",
    "from scipy import signal, optimize\n",
    "\n",
    "import statsmodels.api as sm\n",
    "import itertools"
   ]
  },
  {
   "cell_type": "markdown",
   "metadata": {
    "collapsed": true
   },
   "source": [
    "# The Arma Model"
   ]
  },
  {
   "cell_type": "code",
   "execution_count": 111,
   "metadata": {
    "collapsed": false
   },
   "outputs": [],
   "source": [
    "###################################################################\n",
    "###################################################################\n",
    "def generateArma(pars, sz):\n",
    "    gamma = pars[0]\n",
    "    theta = pars[1]\n",
    "        \n",
    "    epsilon = np.random.standard_normal(sz)\n",
    "    y = np.repeat(np.mean(epsilon), sz)\n",
    "        \n",
    "    for t in xrange(2,sz):\n",
    "        y[t] = gamma*y[t-1] + epsilon[t] + theta*epsilon[t-1]\n",
    "\n",
    "    return y, epsilon\n",
    "\n",
    "\n",
    "###################################################################\n",
    "def fitArma(pars, data):\n",
    "    gamma = pars[0]\n",
    "    theta = pars[1]\n",
    "        \n",
    "    y         = np.repeat(np.mean(data), len(data))\n",
    "    errorsest = geterrors(data, pars)\n",
    "    sigma2    = np.maximum(pars[-1]**2, 1e-6)\n",
    "    axis      = 0\n",
    "    nobs      = len(errorsest)\n",
    "        \n",
    "    for t in xrange(2, sz):\n",
    "        y[t] = gamma * y[t-1] + data[t] + theta * data[t-1]\n",
    "\n",
    "    llike  =  0.5 * (nobs*np.log(sigma2)\n",
    "                      + np.sum((errorsest**2)/sigma2)\n",
    "                      +  nobs*np.log(2*np.pi))\n",
    "    return llike\n",
    "\n",
    "\n",
    "###################################################################\n",
    "def estimateARMA11V2(pars, data):\n",
    "    llk, bestP0 = DoGridSearch(data, numpts0=20, printe=True)\n",
    "    optim_kwds = dict(ftol=1e-50, full_output=True)\n",
    "    args = (data)\n",
    "    \n",
    "    rh, cov_x, infodict, mesg, ier = optimize.leastsq(geterrors, bestP0, args=args, **optim_kwds)\n",
    "    \n",
    "    return rh, cov_x, infodict, mesg, ier\n",
    "\n",
    "\n",
    "###################################################################\n",
    "def estimateARMA11NoMeanMyWayVsTheHighwaY(pars, data):\n",
    "    \"\"\"Return estimation bias for each parameter.\n",
    "       My implementation is the left; the package is on the right\n",
    "    \"\"\" \n",
    "    \n",
    "    llk, bestP0 = DoGridSearch(data, numpts0=5, printe=False)\n",
    "    #update\n",
    "    optim_kwds = dict(ftol=1e-10, full_output=True)\n",
    "    args = (data)\n",
    "    \n",
    "    #rh, cov_x, infodict, mesg, ier = optimize.leastsq(geterrors, bestP0, args=args, **optim_kwds)\n",
    "    res = minimize(fitArma, bestP0, args=args, method='BFGS')\n",
    "    MyPars = res.x - pars\n",
    "    print(' -> estimated pars my way = %s'%res.x)\n",
    "    \n",
    "    res2 = sm.tsa.ARMA(data, (1,1)).fit(trend='nc')\n",
    "    Theirs = res2.params - pars\n",
    "    \n",
    "    print(' -> Bias My way    = %.3f;\\n -> The proper way = %.3f'%(np.sum(np.abs(MyPars)), np.sum(np.abs(Theirs))))\n",
    "    \n",
    "    \n",
    "###################################################################\n",
    "def geterrors(data, params):\n",
    "    #copied from sandbox.tsa.arima.ARIMA\n",
    "    p, q = 1, 1\n",
    "    ar = np.concatenate(([1], -params[:p]))\n",
    "    ma = np.concatenate(([1], params[p:p+q]))\n",
    "\n",
    "    #lfilter_zi requires same length for ar and ma\n",
    "    maxlag = 1+max(p,q)\n",
    "    armax = np.zeros(maxlag)\n",
    "    armax[:p+1] = ar\n",
    "    mamax = np.zeros(maxlag)\n",
    "    mamax[:q+1] = ma\n",
    "\n",
    "    errorsest = signal.lfilter(ar, ma, data)\n",
    "    \n",
    "    return errorsest\n",
    "\n",
    "\n",
    "###################################################################\n",
    "def loglike(data, params):\n",
    "    \"\"\"\n",
    "    Loglikelihood for arma model\n",
    "    \"\"\"\n",
    "\n",
    "    errorsest = geterrors(data, params)\n",
    "    sigma2    = np.maximum(params[-1]**2, 1e-6)\n",
    "    axis      = 0\n",
    "    nobs      = len(errorsest)\n",
    "\n",
    "    llike  =  -0.5 * (nobs*np.log(sigma2)\n",
    "                      + np.sum(errorsest**2/sigma2)\n",
    "                      +  nobs*np.log(2*np.pi))\n",
    "    return llike\n",
    "\n",
    "\n",
    "###################################################################\n",
    "def DoGridSearch(sdata, numpts0=5, printe=False):\n",
    "    GRID_TH = np.linspace(0.1, 0.9, numpts0+2)\n",
    "    GRID_TH = GRID_TH[1:-1]\n",
    "\n",
    "    GRID_OM = np.linspace(0.1, 0.9, numpts0+2)\n",
    "    GRID_OM = GRID_OM[1:-1]\n",
    "\n",
    "    PTS = [GRID_OM, GRID_TH]\n",
    "\n",
    "    pars0Vec = np.array([list(x) for x in itertools.product(*PTS)])\n",
    "    \n",
    "    R = []\n",
    "    for p0 in pars0Vec:\n",
    "        R.append(loglike(sdata, p0))\n",
    "        \n",
    "    # entry of R where the log-likelihood is the maximum\n",
    "    maxL = np.where(R == max(R))[0][0].astype(int)\n",
    "    \n",
    "    if printe is not False:\n",
    "        print('optimal starting values are %s'%pars0Vec[maxL])\n",
    "    \n",
    "        \n",
    "    return R, pars0Vec[maxL]"
   ]
  },
  {
   "cell_type": "code",
   "execution_count": 112,
   "metadata": {
    "collapsed": false
   },
   "outputs": [],
   "source": [
    "sz = 500\n",
    "pars = np.array([0.2, 0.7])\n",
    "sdata, eps = generateArma(pars, sz)"
   ]
  },
  {
   "cell_type": "code",
   "execution_count": 113,
   "metadata": {
    "collapsed": false
   },
   "outputs": [
    {
     "data": {
      "image/png": "[encoded data removed]",
      "text/plain": [
       "<matplotlib.figure.Figure at 0x11996a6d0>"
      ]
     },
     "metadata": {},
     "output_type": "display_data"
    }
   ],
   "source": [
    "f, ax = plt.subplots(1,1,figsize=(4,2))\n",
    "plt.plot(sdata, color='r')\n",
    "plt.plot(eps, color='k')\n",
    "plt.tight_layout()"
   ]
  },
  {
   "cell_type": "markdown",
   "metadata": {},
   "source": [
    "# Comparing results with statsmodels:\n",
    "    - I am able to retrieve the parameters of the DGP properly with statsmodels.\n",
    "    - Now I must understand how they estimate these parameteres and copy-it "
   ]
  },
  {
   "cell_type": "code",
   "execution_count": 114,
   "metadata": {
    "collapsed": false
   },
   "outputs": [
    {
     "name": "stdout",
     "output_type": "stream",
     "text": [
      " -> estimated pars my way = [ 0.01886011  0.85058515]\n",
      " -> Bias My way    = 0.332;\n",
      " -> The proper way = 0.133\n",
      " -> True pars are  = [ 0.2  0.7]\n"
     ]
    }
   ],
   "source": [
    "sdata, eps = generateArma(pars, sz)\n",
    "estimateARMA11NoMeanMyWayVsTheHighwaY(pars, sdata)\n",
    "\n",
    "print(' -> True pars are  = %s'%pars)"
   ]
  },
  {
   "cell_type": "markdown",
   "metadata": {},
   "source": [
    "# Why ?\n",
    "    - Lets find out why"
   ]
  },
  {
   "cell_type": "code",
   "execution_count": null,
   "metadata": {
    "collapsed": true
   },
   "outputs": [],
   "source": [
    ""
   ]
  },
  {
   "cell_type": "code",
   "execution_count": null,
   "metadata": {
    "collapsed": true
   },
   "outputs": [],
   "source": [
    ""
   ]
  }
 ],
 "metadata": {
  "anaconda-cloud": {},
  "kernelspec": {
   "display_name": "Python [default]",
   "language": "python",
   "name": "python2"
  },
  "language_info": {
   "codemirror_mode": {
    "name": "ipython",
    "version": 2.0
   },
   "file_extension": ".py",
   "mimetype": "text/x-python",
   "name": "python",
   "nbconvert_exporter": "python",
   "pygments_lexer": "ipython2",
   "version": "2.7.12"
  }
 },
 "nbformat": 4,
 "nbformat_minor": 0
}