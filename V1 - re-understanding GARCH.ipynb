{
 "cells": [
  {
   "cell_type": "code",
   "execution_count": 1,
   "metadata": {
    "collapsed": false
   },
   "outputs": [
    {
     "name": "stdout",
     "output_type": "stream",
     "text": [
      "no talib\n",
      "Populating the interactive namespace from numpy and matplotlib\n"
     ]
    }
   ],
   "source": [
    "import statsmodels.api as sm\n",
    "import pandas as pd\n",
    "import numpy as np\n",
    "import scipy as sp\n",
    "\n",
    "import portfolio_functions as pf\n",
    "from pandas_datareader import data, wb\n",
    "import GARCH_MPL as gml\n",
    "\n",
    "%pylab inline\n",
    "%matplotlib inline"
   ]
  },
  {
   "cell_type": "markdown",
   "metadata": {},
   "source": [
    "# GARCH"
   ]
  },
  {
   "cell_type": "code",
   "execution_count": 35,
   "metadata": {
    "collapsed": false
   },
   "outputs": [],
   "source": [
    "# Simulate GARCH\n",
    "pars = [0.03123, 0.06123, 0.90123]\n",
    "sz = 300"
   ]
  },
  {
   "cell_type": "code",
   "execution_count": 43,
   "metadata": {
    "collapsed": false
   },
   "outputs": [
    {
     "data": {
      "image/png": "[encoded data removed]",
      "text/plain": [
       "<matplotlib.figure.Figure at 0x11a530450>"
      ]
     },
     "metadata": {},
     "output_type": "display_data"
    }
   ],
   "source": [
    "sdata = gml.simulate_2(pars, sz)\n",
    "sdata.cumsum().plot()\n",
    "plt.tight_layout()"
   ]
  },
  {
   "cell_type": "code",
   "execution_count": 45,
   "metadata": {
    "collapsed": false
   },
   "outputs": [
    {
     "data": {
      "text/plain": [
       "(array([ 0.02584369,  0.06607634,  0.89215926]), 368.76090340327926)"
      ]
     },
     "execution_count": 45,
     "metadata": {},
     "output_type": "execute_result"
    }
   ],
   "source": [
    "# ESTIMATE GARCH\n",
    "gml.estimate_garch(sdata, gml.GARCH_PP, update_freq=5, disp='off')"
   ]
  },
  {
   "cell_type": "code",
   "execution_count": 70,
   "metadata": {
    "collapsed": false
   },
   "outputs": [
    {
     "name": "stdout",
     "output_type": "stream",
     "text": [
      "4\n",
      "4\n",
      "CPU times: user 28.5 s, sys: 413 ms, total: 28.9 s\n",
      "Wall time: 3min 47s\n"
     ]
    }
   ],
   "source": [
    "# ESTIMATE USING POWERFUL ESTIMATORS\n",
    "gml = reload(gml)\n",
    "%time LPM, LPS, LMM, LMS, QMM, QMS = gml.monte_carlo_modprof(pars, 200, 2, omega=True)"
   ]
  },
  {
   "cell_type": "code",
   "execution_count": 71,
   "metadata": {
    "collapsed": false
   },
   "outputs": [
    {
     "name": "stdout",
     "output_type": "stream",
     "text": [
      "        omega     gamma      beta\n",
      "200  0.083684  0.091239  0.811964\n",
      "---\n",
      "        omega     gamma      beta\n",
      "200  0.068947  0.099143  0.820363\n",
      "---\n",
      "        omega     gamma      beta\n",
      "200  0.083869  0.096635  0.809471\n"
     ]
    }
   ],
   "source": [
    "print(LPM)\n",
    "print('---')\n",
    "print(LMM)\n",
    "print('---')\n",
    "print(QMM)"
   ]
  },
  {
   "cell_type": "markdown",
   "metadata": {},
   "source": [
    "# True Functions"
   ]
  },
  {
   "cell_type": "code",
   "execution_count": null,
   "metadata": {
    "collapsed": false
   },
   "outputs": [],
   "source": [
    "PARS = np.array([0.03, 0.06, 0.9])\n",
    "length_data = 600\n",
    "N = 2\n",
    "\n",
    "gml = reload(gml)\n",
    "%time PM1, PM2, PM3, LLM1, LLM2, LLM3 = gml.monte_carlo_hierarchy(PARS, length_data, N)"
   ]
  },
  {
   "cell_type": "code",
   "execution_count": null,
   "metadata": {
    "collapsed": false
   },
   "outputs": [],
   "source": [
    "PM1"
   ]
  },
  {
   "cell_type": "code",
   "execution_count": null,
   "metadata": {
    "collapsed": false
   },
   "outputs": [],
   "source": [
    "PM2"
   ]
  },
  {
   "cell_type": "code",
   "execution_count": null,
   "metadata": {
    "collapsed": false
   },
   "outputs": [],
   "source": [
    "PM3"
   ]
  },
  {
   "cell_type": "code",
   "execution_count": null,
   "metadata": {
    "collapsed": true
   },
   "outputs": [],
   "source": [
    "# Estimate mod and prof beta\n",
    "lp1, lm1, phat1, phat2 = gml.estimate_profile_and_modified_lik_beta(sdata)"
   ]
  },
  {
   "cell_type": "code",
   "execution_count": null,
   "metadata": {
    "collapsed": true
   },
   "outputs": [],
   "source": [
    "# test2 \n",
    "gml.monte_carlo_modprof(pars, 100, 2, omega=True)"
   ]
  },
  {
   "cell_type": "code",
   "execution_count": null,
   "metadata": {
    "collapsed": true
   },
   "outputs": [],
   "source": [
    "gml.monte_carlo_modprof(pars, 100, 2, omega=False)"
   ]
  },
  {
   "cell_type": "code",
   "execution_count": null,
   "metadata": {
    "collapsed": true
   },
   "outputs": [],
   "source": [
    "gml = reload(gml)\n",
    "qmlHat, mplOHat, mplGHat, mplBHat = gml.get_all_estimators(sdata)"
   ]
  },
  {
   "cell_type": "code",
   "execution_count": null,
   "metadata": {
    "collapsed": true
   },
   "outputs": [],
   "source": [
    ""
   ]
  }
 ],
 "metadata": {
  "kernelspec": {
   "display_name": "Python [default]",
   "language": "python",
   "name": "python2"
  },
  "language_info": {
   "codemirror_mode": {
    "name": "ipython",
    "version": 2.0
   },
   "file_extension": ".py",
   "mimetype": "text/x-python",
   "name": "python",
   "nbconvert_exporter": "python",
   "pygments_lexer": "ipython2",
   "version": "2.7.12"
  }
 },
 "nbformat": 4,
 "nbformat_minor": 0
}